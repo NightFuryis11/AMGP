{
 "cells": [
  {
   "cell_type": "code",
   "execution_count": 2,
   "id": "576e8f20-0d67-4abe-8f4b-8729ea32d74b",
   "metadata": {},
   "outputs": [],
   "source": [
    "from datetime import datetime\n",
    "\n",
    "import matplotlib.gridspec as gridspec\n",
    "import matplotlib.pyplot as plt\n",
    "import metpy.calc as mpcalc\n",
    "from metpy.plots import SkewT, Hodograph\n",
    "from metpy.units import units, pandas_dataframe_to_unit_arrays\n",
    "import numpy as np\n",
    "from siphon.simplewebservice.wyoming import WyomingUpperAir\n",
    "import time"
   ]
  },
  {
   "cell_type": "code",
   "execution_count": 5,
   "id": "8a607f05-8859-412d-8a59-ce11970c43a0",
   "metadata": {},
   "outputs": [
    {
     "ename": "HTTPError",
     "evalue": "Error accessing http://weather.uwyo.edu/cgi-bin/sounding/?region=naconf&TYPE=TEXT%3ALIST&YEAR=1997&MONTH=10&FROM=1400&TO=1400&STNM=GRB\nServer Error (503: Sorry, the server is too busy to process your request.\nPlease try again later.\n)",
     "output_type": "error",
     "traceback": [
      "\u001b[0;31m---------------------------------------------------------------------------\u001b[0m",
      "\u001b[0;31mHTTPError\u001b[0m                                 Traceback (most recent call last)",
      "Cell \u001b[0;32mIn[5], line 3\u001b[0m\n\u001b[1;32m      1\u001b[0m \u001b[38;5;28;01mif\u001b[39;00m \u001b[38;5;28;01mTrue\u001b[39;00m:\n\u001b[1;32m      2\u001b[0m     dat \u001b[38;5;241m=\u001b[39m pandas_dataframe_to_unit_arrays(WyomingUpperAir\u001b[38;5;241m.\u001b[39mrequest_data(datetime(year\u001b[38;5;241m=\u001b[39m\u001b[38;5;241m1997\u001b[39m, month\u001b[38;5;241m=\u001b[39m\u001b[38;5;241m10\u001b[39m, day\u001b[38;5;241m=\u001b[39m\u001b[38;5;241m14\u001b[39m, hour\u001b[38;5;241m=\u001b[39m\u001b[38;5;241m0\u001b[39m), \u001b[38;5;124m\"\u001b[39m\u001b[38;5;124mWPL\u001b[39m\u001b[38;5;124m\"\u001b[39m))\n\u001b[0;32m----> 3\u001b[0m     dat2 \u001b[38;5;241m=\u001b[39m pandas_dataframe_to_unit_arrays(\u001b[43mWyomingUpperAir\u001b[49m\u001b[38;5;241;43m.\u001b[39;49m\u001b[43mrequest_data\u001b[49m\u001b[43m(\u001b[49m\u001b[43mdatetime\u001b[49m\u001b[43m(\u001b[49m\u001b[43myear\u001b[49m\u001b[38;5;241;43m=\u001b[39;49m\u001b[38;5;241;43m1997\u001b[39;49m\u001b[43m,\u001b[49m\u001b[43m \u001b[49m\u001b[43mmonth\u001b[49m\u001b[38;5;241;43m=\u001b[39;49m\u001b[38;5;241;43m10\u001b[39;49m\u001b[43m,\u001b[49m\u001b[43m \u001b[49m\u001b[43mday\u001b[49m\u001b[38;5;241;43m=\u001b[39;49m\u001b[38;5;241;43m14\u001b[39;49m\u001b[43m,\u001b[49m\u001b[43m \u001b[49m\u001b[43mhour\u001b[49m\u001b[38;5;241;43m=\u001b[39;49m\u001b[38;5;241;43m0\u001b[39;49m\u001b[43m)\u001b[49m\u001b[43m,\u001b[49m\u001b[43m \u001b[49m\u001b[38;5;124;43m\"\u001b[39;49m\u001b[38;5;124;43mGRB\u001b[39;49m\u001b[38;5;124;43m\"\u001b[39;49m\u001b[43m)\u001b[49m)\n\u001b[1;32m      4\u001b[0m     dat3 \u001b[38;5;241m=\u001b[39m pandas_dataframe_to_unit_arrays(WyomingUpperAir\u001b[38;5;241m.\u001b[39mrequest_data(datetime(year\u001b[38;5;241m=\u001b[39m\u001b[38;5;241m1997\u001b[39m, month\u001b[38;5;241m=\u001b[39m\u001b[38;5;241m10\u001b[39m, day\u001b[38;5;241m=\u001b[39m\u001b[38;5;241m14\u001b[39m, hour\u001b[38;5;241m=\u001b[39m\u001b[38;5;241m0\u001b[39m), \u001b[38;5;124m\"\u001b[39m\u001b[38;5;124mAPX\u001b[39m\u001b[38;5;124m\"\u001b[39m))\n\u001b[1;32m      5\u001b[0m     dat4 \u001b[38;5;241m=\u001b[39m pandas_dataframe_to_unit_arrays(WyomingUpperAir\u001b[38;5;241m.\u001b[39mrequest_data(datetime(year\u001b[38;5;241m=\u001b[39m\u001b[38;5;241m1997\u001b[39m, month\u001b[38;5;241m=\u001b[39m\u001b[38;5;241m10\u001b[39m, day\u001b[38;5;241m=\u001b[39m\u001b[38;5;241m14\u001b[39m, hour\u001b[38;5;241m=\u001b[39m\u001b[38;5;241m0\u001b[39m), \u001b[38;5;124m\"\u001b[39m\u001b[38;5;124mINL\u001b[39m\u001b[38;5;124m\"\u001b[39m))\n",
      "File \u001b[0;32m/mambaforge/envs/main/lib/python3.11/site-packages/siphon/simplewebservice/wyoming.py:50\u001b[0m, in \u001b[0;36mWyomingUpperAir.request_data\u001b[0;34m(cls, time, site_id, **kwargs)\u001b[0m\n\u001b[1;32m     30\u001b[0m \u001b[38;5;250m\u001b[39m\u001b[38;5;124mr\u001b[39m\u001b[38;5;124;03m\"\"\"Retrieve upper air observations from the Wyoming archive.\u001b[39;00m\n\u001b[1;32m     31\u001b[0m \n\u001b[1;32m     32\u001b[0m \u001b[38;5;124;03mParameters\u001b[39;00m\n\u001b[0;32m   (...)\u001b[0m\n\u001b[1;32m     47\u001b[0m \n\u001b[1;32m     48\u001b[0m \u001b[38;5;124;03m\"\"\"\u001b[39;00m\n\u001b[1;32m     49\u001b[0m endpoint \u001b[38;5;241m=\u001b[39m \u001b[38;5;28mcls\u001b[39m()\n\u001b[0;32m---> 50\u001b[0m df \u001b[38;5;241m=\u001b[39m \u001b[43mendpoint\u001b[49m\u001b[38;5;241;43m.\u001b[39;49m\u001b[43m_get_data\u001b[49m\u001b[43m(\u001b[49m\u001b[43mtime\u001b[49m\u001b[43m,\u001b[49m\u001b[43m \u001b[49m\u001b[43msite_id\u001b[49m\u001b[43m)\u001b[49m\n\u001b[1;32m     51\u001b[0m \u001b[38;5;28;01mreturn\u001b[39;00m df\n",
      "File \u001b[0;32m/mambaforge/envs/main/lib/python3.11/site-packages/siphon/simplewebservice/wyoming.py:70\u001b[0m, in \u001b[0;36mWyomingUpperAir._get_data\u001b[0;34m(self, time, site_id)\u001b[0m\n\u001b[1;32m     53\u001b[0m \u001b[38;5;28;01mdef\u001b[39;00m \u001b[38;5;21m_get_data\u001b[39m(\u001b[38;5;28mself\u001b[39m, time, site_id):\n\u001b[1;32m     54\u001b[0m \u001b[38;5;250m    \u001b[39m\u001b[38;5;124mr\u001b[39m\u001b[38;5;124;03m\"\"\"Download and parse upper air observations from an online archive.\u001b[39;00m\n\u001b[1;32m     55\u001b[0m \n\u001b[1;32m     56\u001b[0m \u001b[38;5;124;03m    Parameters\u001b[39;00m\n\u001b[0;32m   (...)\u001b[0m\n\u001b[1;32m     68\u001b[0m \n\u001b[1;32m     69\u001b[0m \u001b[38;5;124;03m    \"\"\"\u001b[39;00m\n\u001b[0;32m---> 70\u001b[0m     raw_data \u001b[38;5;241m=\u001b[39m \u001b[38;5;28;43mself\u001b[39;49m\u001b[38;5;241;43m.\u001b[39;49m\u001b[43m_get_data_raw\u001b[49m\u001b[43m(\u001b[49m\u001b[43mtime\u001b[49m\u001b[43m,\u001b[49m\u001b[43m \u001b[49m\u001b[43msite_id\u001b[49m\u001b[43m)\u001b[49m\n\u001b[1;32m     71\u001b[0m     soup \u001b[38;5;241m=\u001b[39m BeautifulSoup(raw_data, \u001b[38;5;124m'\u001b[39m\u001b[38;5;124mhtml.parser\u001b[39m\u001b[38;5;124m'\u001b[39m)\n\u001b[1;32m     72\u001b[0m     tabular_data \u001b[38;5;241m=\u001b[39m StringIO(soup\u001b[38;5;241m.\u001b[39mfind_all(\u001b[38;5;124m'\u001b[39m\u001b[38;5;124mpre\u001b[39m\u001b[38;5;124m'\u001b[39m)[\u001b[38;5;241m0\u001b[39m]\u001b[38;5;241m.\u001b[39mcontents[\u001b[38;5;241m0\u001b[39m])\n",
      "File \u001b[0;32m/mambaforge/envs/main/lib/python3.11/site-packages/siphon/simplewebservice/wyoming.py:144\u001b[0m, in \u001b[0;36mWyomingUpperAir._get_data_raw\u001b[0;34m(self, time, site_id)\u001b[0m\n\u001b[1;32m    126\u001b[0m \u001b[38;5;250m\u001b[39m\u001b[38;5;124;03m\"\"\"Download data from the University of Wyoming's upper air archive.\u001b[39;00m\n\u001b[1;32m    127\u001b[0m \n\u001b[1;32m    128\u001b[0m \u001b[38;5;124;03mParameters\u001b[39;00m\n\u001b[0;32m   (...)\u001b[0m\n\u001b[1;32m    138\u001b[0m \n\u001b[1;32m    139\u001b[0m \u001b[38;5;124;03m\"\"\"\u001b[39;00m\n\u001b[1;32m    140\u001b[0m path \u001b[38;5;241m=\u001b[39m (\u001b[38;5;124m'\u001b[39m\u001b[38;5;124m?region=naconf&TYPE=TEXT\u001b[39m\u001b[38;5;124m%\u001b[39m\u001b[38;5;124m3ALIST\u001b[39m\u001b[38;5;124m'\u001b[39m\n\u001b[1;32m    141\u001b[0m         \u001b[38;5;124m'\u001b[39m\u001b[38;5;124m&YEAR=\u001b[39m\u001b[38;5;124m{\u001b[39m\u001b[38;5;124mtime:\u001b[39m\u001b[38;5;124m%\u001b[39m\u001b[38;5;124mY}&MONTH=\u001b[39m\u001b[38;5;124m{\u001b[39m\u001b[38;5;124mtime:\u001b[39m\u001b[38;5;124m%\u001b[39m\u001b[38;5;124mm}&FROM=\u001b[39m\u001b[38;5;124m{\u001b[39m\u001b[38;5;124mtime:\u001b[39m\u001b[38;5;132;01m%d\u001b[39;00m\u001b[38;5;124m%\u001b[39m\u001b[38;5;124mH}&TO=\u001b[39m\u001b[38;5;124m{\u001b[39m\u001b[38;5;124mtime:\u001b[39m\u001b[38;5;132;01m%d\u001b[39;00m\u001b[38;5;124m%\u001b[39m\u001b[38;5;124mH}\u001b[39m\u001b[38;5;124m'\u001b[39m\n\u001b[1;32m    142\u001b[0m         \u001b[38;5;124m'\u001b[39m\u001b[38;5;124m&STNM=\u001b[39m\u001b[38;5;132;01m{stid}\u001b[39;00m\u001b[38;5;124m'\u001b[39m)\u001b[38;5;241m.\u001b[39mformat(time\u001b[38;5;241m=\u001b[39mtime, stid\u001b[38;5;241m=\u001b[39msite_id)\n\u001b[0;32m--> 144\u001b[0m resp \u001b[38;5;241m=\u001b[39m \u001b[38;5;28;43mself\u001b[39;49m\u001b[38;5;241;43m.\u001b[39;49m\u001b[43mget_path\u001b[49m\u001b[43m(\u001b[49m\u001b[43mpath\u001b[49m\u001b[43m)\u001b[49m\n\u001b[1;32m    145\u001b[0m \u001b[38;5;66;03m# See if the return is valid, but has no data\u001b[39;00m\n\u001b[1;32m    146\u001b[0m \u001b[38;5;28;01mif\u001b[39;00m resp\u001b[38;5;241m.\u001b[39mtext\u001b[38;5;241m.\u001b[39mfind(\u001b[38;5;124m\"\u001b[39m\u001b[38;5;124mCan\u001b[39m\u001b[38;5;124m'\u001b[39m\u001b[38;5;124mt\u001b[39m\u001b[38;5;124m\"\u001b[39m) \u001b[38;5;241m!=\u001b[39m \u001b[38;5;241m-\u001b[39m\u001b[38;5;241m1\u001b[39m:\n",
      "File \u001b[0;32m/mambaforge/envs/main/lib/python3.11/site-packages/siphon/http_util.py:457\u001b[0m, in \u001b[0;36mHTTPEndPoint.get_path\u001b[0;34m(self, path, query)\u001b[0m\n\u001b[1;32m    434\u001b[0m \u001b[38;5;28;01mdef\u001b[39;00m \u001b[38;5;21mget_path\u001b[39m(\u001b[38;5;28mself\u001b[39m, path, query\u001b[38;5;241m=\u001b[39m\u001b[38;5;28;01mNone\u001b[39;00m):\n\u001b[1;32m    435\u001b[0m \u001b[38;5;250m    \u001b[39m\u001b[38;5;124;03m\"\"\"Make a GET request, optionally including a query, to a relative path.\u001b[39;00m\n\u001b[1;32m    436\u001b[0m \n\u001b[1;32m    437\u001b[0m \u001b[38;5;124;03m    The path of the request includes a path on top of the base URL\u001b[39;00m\n\u001b[0;32m   (...)\u001b[0m\n\u001b[1;32m    455\u001b[0m \n\u001b[1;32m    456\u001b[0m \u001b[38;5;124;03m    \"\"\"\u001b[39;00m\n\u001b[0;32m--> 457\u001b[0m     \u001b[38;5;28;01mreturn\u001b[39;00m \u001b[38;5;28;43mself\u001b[39;49m\u001b[38;5;241;43m.\u001b[39;49m\u001b[43mget\u001b[49m\u001b[43m(\u001b[49m\u001b[38;5;28;43mself\u001b[39;49m\u001b[38;5;241;43m.\u001b[39;49m\u001b[43murl_path\u001b[49m\u001b[43m(\u001b[49m\u001b[43mpath\u001b[49m\u001b[43m)\u001b[49m\u001b[43m,\u001b[49m\u001b[43m \u001b[49m\u001b[43mquery\u001b[49m\u001b[43m)\u001b[49m\n",
      "File \u001b[0;32m/mambaforge/envs/main/lib/python3.11/site-packages/siphon/http_util.py:492\u001b[0m, in \u001b[0;36mHTTPEndPoint.get\u001b[0;34m(self, path, params)\u001b[0m\n\u001b[1;32m    490\u001b[0m     \u001b[38;5;28;01melse\u001b[39;00m:\n\u001b[1;32m    491\u001b[0m         text \u001b[38;5;241m=\u001b[39m resp\u001b[38;5;241m.\u001b[39mtext\n\u001b[0;32m--> 492\u001b[0m     \u001b[38;5;28;01mraise\u001b[39;00m requests\u001b[38;5;241m.\u001b[39mHTTPError(\u001b[38;5;124m'\u001b[39m\u001b[38;5;124mError accessing \u001b[39m\u001b[38;5;132;01m{0}\u001b[39;00m\u001b[38;5;130;01m\\n\u001b[39;00m\u001b[38;5;124m'\u001b[39m\n\u001b[1;32m    493\u001b[0m                              \u001b[38;5;124m'\u001b[39m\u001b[38;5;124mServer Error (\u001b[39m\u001b[38;5;132;01m{1:d}\u001b[39;00m\u001b[38;5;124m: \u001b[39m\u001b[38;5;132;01m{2}\u001b[39;00m\u001b[38;5;124m)\u001b[39m\u001b[38;5;124m'\u001b[39m\u001b[38;5;241m.\u001b[39mformat(resp\u001b[38;5;241m.\u001b[39mrequest\u001b[38;5;241m.\u001b[39murl,\n\u001b[1;32m    494\u001b[0m                                                                 resp\u001b[38;5;241m.\u001b[39mstatus_code,\n\u001b[1;32m    495\u001b[0m                                                                 text))\n\u001b[1;32m    496\u001b[0m \u001b[38;5;28;01mreturn\u001b[39;00m resp\n",
      "\u001b[0;31mHTTPError\u001b[0m: Error accessing http://weather.uwyo.edu/cgi-bin/sounding/?region=naconf&TYPE=TEXT%3ALIST&YEAR=1997&MONTH=10&FROM=1400&TO=1400&STNM=GRB\nServer Error (503: Sorry, the server is too busy to process your request.\nPlease try again later.\n)"
     ]
    }
   ],
   "source": [
    "if True:\n",
    "    dat = pandas_dataframe_to_unit_arrays(WyomingUpperAir.request_data(datetime(year=1997, month=10, day=14, hour=0), \"WPL\"))\n",
    "    dat2 = pandas_dataframe_to_unit_arrays(WyomingUpperAir.request_data(datetime(year=1997, month=10, day=14, hour=0), \"GRB\"))\n",
    "    time.sleep(1)\n",
    "    dat3 = pandas_dataframe_to_unit_arrays(WyomingUpperAir.request_data(datetime(year=1997, month=10, day=14, hour=0), \"APX\"))\n",
    "    time.sleep(1)\n",
    "    dat4 = pandas_dataframe_to_unit_arrays(WyomingUpperAir.request_data(datetime(year=1997, month=10, day=14, hour=0), \"INL\"))"
   ]
  },
  {
   "cell_type": "code",
   "execution_count": 44,
   "id": "cd393ba1-4c66-4caa-9868-e4df032c309b",
   "metadata": {},
   "outputs": [
    {
     "data": {
      "text/plain": [
       "{'pressure': array([949. , 946. , 925. , 850. , 849. , 789. , 744. , 700. , 687. ,\n",
       "        653. , 650. , 559. , 500. , 454. , 401. , 400. , 330. , 301. ,\n",
       "        300. , 250. , 229. , 200. , 166. , 150. , 135. , 123. , 103. ,\n",
       "        100. ,  95.3,  70. ,  64.1,  57.4,  50. ,  34. ,  30. ,  23.3,\n",
       "         20. ,  17.4,  15.1,  10. ,   9.2,   7.4,   7. ,   5.9,   5. ,\n",
       "          4.7,   4.4,   4.3,   3.8,   3.7]) <Unit('hectopascal')>,\n",
       " 'height': array([  386,   411,   590,  1267,  1276,  1850,  2307,  2781,  2926,\n",
       "         3317,  3352,  4495,  5320,  6018,  6902,  6920,  8280,  8927,\n",
       "         8950, 10210, 10803, 11710, 12953, 13620, 14302, 14903, 16041,\n",
       "        16230, 16539, 18510, 19070, 19772, 20650, 23063, 23840, 25405,\n",
       "        26350, 27216, 28103, 30690, 31211, 32589, 32940, 34053, 35150,\n",
       "        35561, 36001, 36155, 36981, 37159]) <Unit('meter')>,\n",
       " 'temperature': array([  3.8,   3.4,   1.8,  -4.5,  -4.5,  -8.1,  -7.7,  -8.9,  -9.3,\n",
       "        -10.9, -10.9, -17.1, -23.7, -29.1, -31.7, -31.7, -31.3, -34.6,\n",
       "        -34.7, -40.7, -44.1, -44.3, -46.3, -50.9, -53.7, -52.1, -56.7,\n",
       "        -54.1, -52.7, -56.1, -57.5, -55.7, -57.9, -61.9, -61.1, -62.5,\n",
       "        -61.1, -61.1, -58.1, -59.9, -59.7, -55.9, -54.9, -47.7, -46.7,\n",
       "        -46.3, -43.9, -44.2, -45.9, -44.7]) <Unit('degree_Celsius')>,\n",
       " 'dewpoint': array([  0.2,   1.3,   0.1,  -4.5,  -4.5,  -8.1,  -9.8, -12.7, -13.7,\n",
       "        -21.9, -32.9, -46.1, -50.7, -55.1, -59.7, -59.7, -60.3, -62.6,\n",
       "        -62.7, -66.7, -69.1, -69.3, -70.3, -73.9, -75.7, -74.1, -77.7,\n",
       "        -76.1, -74.7, -77.1, -78.5, -76.7, -78.9, -80.9, -81.1, -81.5,\n",
       "        -81.1, -81.1, -78.1, -79.9, -79.7, -76.7, -75.9, -70.7, -69.7,\n",
       "        -70.3, -67.9, -68.2, -69.9, -68.7]) <Unit('degree_Celsius')>,\n",
       " 'direction': array([220., 221., 225., 230., 230., 228., 227., 225., 224., 221., 221.,\n",
       "        212., 205., 201., 195., 195., 192., 190., 190., 190., 185., 195.,\n",
       "        192., 190., 193., 195., 199., 200., 203., 220., 223., 226., 230.,\n",
       "        234., 235., 269., 290., 287., 284., 275., 275., 275., 275., 283.,\n",
       "        290., 280., 269., 265.,  nan,  nan]) <Unit('degree')>,\n",
       " 'speed': array([ 11.,  12.,  21.,  36.,  36.,  36.,  36.,  36.,  37.,  38.,  38.,\n",
       "         42.,  45.,  58.,  75.,  68., 117., 140., 139., 112., 113.,  95.,\n",
       "         85.,  80.,  69.,  59.,  41.,  38.,  37.,  30.,  27.,  22.,  17.,\n",
       "         28.,  32.,  32.,  32.,  35.,  38.,  47.,  54.,  73.,  74.,  63.,\n",
       "         53.,  60.,  68.,  71.,  nan,  nan]) <Unit('knot')>,\n",
       " 'u_wind': array([ 7.07066371,  7.87270835, 14.8492424 , 27.57759995, 27.57759995,\n",
       "        26.75321372, 26.32873326, 25.45584412, 25.70235971, 24.9302431 ,\n",
       "        24.9302431 , 22.2566091 , 19.01782178, 20.78534107, 19.41142838,\n",
       "        17.59969507, 24.32566783, 24.31074487, 24.1370967 , 19.4485959 ,\n",
       "         9.84859893, 24.58780928, 17.67249372, 13.89185421, 15.52162275,\n",
       "        15.27032366, 13.34829433, 12.99676545, 14.45705175, 19.28362829,\n",
       "        18.41395572, 15.82547561, 13.02275553, 22.65247584, 26.21286542,\n",
       "        31.99512625, 30.07016387, 33.47066646, 36.8712376 , 46.82115081,\n",
       "        53.7945137 , 72.72221296, 73.71840766, 61.38531408, 49.8037089 ,\n",
       "        59.08846518, 67.98964327, 70.72982356,         nan,         nan]) <Unit('knot')>,\n",
       " 'v_wind': array([  8.42648887,   9.05651496,  14.8492424 ,  23.14035395,\n",
       "         23.14035395,  24.08870183,  24.55194096,  25.45584412,\n",
       "         26.61557261,  28.67896405,  28.67896405,  35.61802004,\n",
       "         40.78385042,  54.14766474,  72.44443697,  65.68295619,\n",
       "        114.44326929, 137.87308542, 136.88827767, 110.29846834,\n",
       "        112.57000088,  91.7629535 ,  83.14254606,  78.78462024,\n",
       "         67.23153447,  56.98962375,  38.7662616 ,  35.70831959,\n",
       "         34.05867958,  22.98133329,  19.74654994,  15.28248415,\n",
       "         10.92738936,  16.45798706,  18.35444596,   0.55847701,\n",
       "        -10.94464459, -10.23300967,  -9.19303203,  -4.09631991,\n",
       "         -4.70641011,  -6.36236922,  -6.44952496, -14.17191642,\n",
       "        -18.1270676 , -10.41889066,   1.18676364,   6.18805774,\n",
       "                 nan,          nan]) <Unit('knot')>,\n",
       " 'station': array(['WPL', 'WPL', 'WPL', 'WPL', 'WPL', 'WPL', 'WPL', 'WPL', 'WPL',\n",
       "        'WPL', 'WPL', 'WPL', 'WPL', 'WPL', 'WPL', 'WPL', 'WPL', 'WPL',\n",
       "        'WPL', 'WPL', 'WPL', 'WPL', 'WPL', 'WPL', 'WPL', 'WPL', 'WPL',\n",
       "        'WPL', 'WPL', 'WPL', 'WPL', 'WPL', 'WPL', 'WPL', 'WPL', 'WPL',\n",
       "        'WPL', 'WPL', 'WPL', 'WPL', 'WPL', 'WPL', 'WPL', 'WPL', 'WPL',\n",
       "        'WPL', 'WPL', 'WPL', 'WPL', 'WPL'], dtype=object),\n",
       " 'station_number': array([71845, 71845, 71845, 71845, 71845, 71845, 71845, 71845, 71845,\n",
       "        71845, 71845, 71845, 71845, 71845, 71845, 71845, 71845, 71845,\n",
       "        71845, 71845, 71845, 71845, 71845, 71845, 71845, 71845, 71845,\n",
       "        71845, 71845, 71845, 71845, 71845, 71845, 71845, 71845, 71845,\n",
       "        71845, 71845, 71845, 71845, 71845, 71845, 71845, 71845, 71845,\n",
       "        71845, 71845, 71845, 71845, 71845]),\n",
       " 'time': array(['1997-10-14T00:00:00.000000000', '1997-10-14T00:00:00.000000000',\n",
       "        '1997-10-14T00:00:00.000000000', '1997-10-14T00:00:00.000000000',\n",
       "        '1997-10-14T00:00:00.000000000', '1997-10-14T00:00:00.000000000',\n",
       "        '1997-10-14T00:00:00.000000000', '1997-10-14T00:00:00.000000000',\n",
       "        '1997-10-14T00:00:00.000000000', '1997-10-14T00:00:00.000000000',\n",
       "        '1997-10-14T00:00:00.000000000', '1997-10-14T00:00:00.000000000',\n",
       "        '1997-10-14T00:00:00.000000000', '1997-10-14T00:00:00.000000000',\n",
       "        '1997-10-14T00:00:00.000000000', '1997-10-14T00:00:00.000000000',\n",
       "        '1997-10-14T00:00:00.000000000', '1997-10-14T00:00:00.000000000',\n",
       "        '1997-10-14T00:00:00.000000000', '1997-10-14T00:00:00.000000000',\n",
       "        '1997-10-14T00:00:00.000000000', '1997-10-14T00:00:00.000000000',\n",
       "        '1997-10-14T00:00:00.000000000', '1997-10-14T00:00:00.000000000',\n",
       "        '1997-10-14T00:00:00.000000000', '1997-10-14T00:00:00.000000000',\n",
       "        '1997-10-14T00:00:00.000000000', '1997-10-14T00:00:00.000000000',\n",
       "        '1997-10-14T00:00:00.000000000', '1997-10-14T00:00:00.000000000',\n",
       "        '1997-10-14T00:00:00.000000000', '1997-10-14T00:00:00.000000000',\n",
       "        '1997-10-14T00:00:00.000000000', '1997-10-14T00:00:00.000000000',\n",
       "        '1997-10-14T00:00:00.000000000', '1997-10-14T00:00:00.000000000',\n",
       "        '1997-10-14T00:00:00.000000000', '1997-10-14T00:00:00.000000000',\n",
       "        '1997-10-14T00:00:00.000000000', '1997-10-14T00:00:00.000000000',\n",
       "        '1997-10-14T00:00:00.000000000', '1997-10-14T00:00:00.000000000',\n",
       "        '1997-10-14T00:00:00.000000000', '1997-10-14T00:00:00.000000000',\n",
       "        '1997-10-14T00:00:00.000000000', '1997-10-14T00:00:00.000000000',\n",
       "        '1997-10-14T00:00:00.000000000', '1997-10-14T00:00:00.000000000',\n",
       "        '1997-10-14T00:00:00.000000000', '1997-10-14T00:00:00.000000000'],\n",
       "       dtype='datetime64[ns]'),\n",
       " 'latitude': array([51.45, 51.45, 51.45, 51.45, 51.45, 51.45, 51.45, 51.45, 51.45,\n",
       "        51.45, 51.45, 51.45, 51.45, 51.45, 51.45, 51.45, 51.45, 51.45,\n",
       "        51.45, 51.45, 51.45, 51.45, 51.45, 51.45, 51.45, 51.45, 51.45,\n",
       "        51.45, 51.45, 51.45, 51.45, 51.45, 51.45, 51.45, 51.45, 51.45,\n",
       "        51.45, 51.45, 51.45, 51.45, 51.45, 51.45, 51.45, 51.45, 51.45,\n",
       "        51.45, 51.45, 51.45, 51.45, 51.45]) <Unit('degree')>,\n",
       " 'longitude': array([-90.2, -90.2, -90.2, -90.2, -90.2, -90.2, -90.2, -90.2, -90.2,\n",
       "        -90.2, -90.2, -90.2, -90.2, -90.2, -90.2, -90.2, -90.2, -90.2,\n",
       "        -90.2, -90.2, -90.2, -90.2, -90.2, -90.2, -90.2, -90.2, -90.2,\n",
       "        -90.2, -90.2, -90.2, -90.2, -90.2, -90.2, -90.2, -90.2, -90.2,\n",
       "        -90.2, -90.2, -90.2, -90.2, -90.2, -90.2, -90.2, -90.2, -90.2,\n",
       "        -90.2, -90.2, -90.2, -90.2, -90.2]) <Unit('degree')>,\n",
       " 'elevation': array([386., 386., 386., 386., 386., 386., 386., 386., 386., 386., 386.,\n",
       "        386., 386., 386., 386., 386., 386., 386., 386., 386., 386., 386.,\n",
       "        386., 386., 386., 386., 386., 386., 386., 386., 386., 386., 386.,\n",
       "        386., 386., 386., 386., 386., 386., 386., 386., 386., 386., 386.,\n",
       "        386., 386., 386., 386., 386., 386.]) <Unit('meter')>,\n",
       " 'pw': array([9.15, 9.15, 9.15, 9.15, 9.15, 9.15, 9.15, 9.15, 9.15, 9.15, 9.15,\n",
       "        9.15, 9.15, 9.15, 9.15, 9.15, 9.15, 9.15, 9.15, 9.15, 9.15, 9.15,\n",
       "        9.15, 9.15, 9.15, 9.15, 9.15, 9.15, 9.15, 9.15, 9.15, 9.15, 9.15,\n",
       "        9.15, 9.15, 9.15, 9.15, 9.15, 9.15, 9.15, 9.15, 9.15, 9.15, 9.15,\n",
       "        9.15, 9.15, 9.15, 9.15, 9.15, 9.15]) <Unit('millimeter')>}"
      ]
     },
     "execution_count": 44,
     "metadata": {},
     "output_type": "execute_result"
    }
   ],
   "source": [
    "dat"
   ]
  },
  {
   "cell_type": "code",
   "execution_count": 46,
   "id": "24aed953-4ed5-42a2-8756-5ca2a7a39986",
   "metadata": {},
   "outputs": [],
   "source": [
    "sub = dat[\"pressure\"].m > 90"
   ]
  },
  {
   "cell_type": "code",
   "execution_count": 76,
   "id": "c813f813-7257-42f9-bf68-fca422600332",
   "metadata": {},
   "outputs": [],
   "source": [
    "P = dat[\"pressure\"][sub].magnitude.tolist()\n",
    "T = dat[\"temperature\"][sub].magnitude.tolist()\n",
    "Td = dat[\"dewpoint\"][sub].magnitude.tolist()"
   ]
  },
  {
   "cell_type": "code",
   "execution_count": 79,
   "id": "2ca0670c-32e1-465d-9d57-3c6f6862c8d5",
   "metadata": {},
   "outputs": [
    {
     "data": {
      "text/plain": [
       "925.0"
      ]
     },
     "execution_count": 79,
     "metadata": {},
     "output_type": "execute_result"
    }
   ],
   "source": [
    "P[P.index(925)]"
   ]
  },
  {
   "cell_type": "code",
   "execution_count": 80,
   "id": "6898cc4e-6fbd-4d5b-8e8c-828121e4e8ee",
   "metadata": {},
   "outputs": [
    {
     "data": {
      "text/plain": [
       "1.8"
      ]
     },
     "execution_count": 80,
     "metadata": {},
     "output_type": "execute_result"
    }
   ],
   "source": [
    "T[P.index(925)]"
   ]
  },
  {
   "cell_type": "code",
   "execution_count": 86,
   "id": "5a77d7af-e603-4b02-9d1d-14e369afec1a",
   "metadata": {},
   "outputs": [
    {
     "data": {
      "text/html": [
       "<table><tbody><tr><th>Magnitude</th><td style='text-align:left;'><pre>[3.8000000000000114 3.5495740676192327 1.7805157098555924<br> -3.362170837972201 -3.4233899709986986 -7.3098181676220975<br> -10.530963241802226 -13.974480084758738 -15.053229834189608<br> -18.018605908878612 -18.290724506147768 -27.445427339781162<br> -34.42882341777826 -40.52656964162807 -48.33961888519755<br> -48.495745757796215 -60.323335078001946 -65.807518421234<br> -66.00360868470801 -76.48935934969288 -81.35297045426333<br> -88.62796339693722 -98.19316871272196 -103.18670256234222<br> -108.22679459717307 -112.55545560332882 -120.49486540436749<br> -121.77866642860718 -123.84643351161714]</pre></td></tr><tr><th>Units</th><td style='text-align:left;'>degree_Celsius</td></tr></tbody></table>"
      ],
      "text/latex": [
       "$\\begin{pmatrix} &  &  &  &  &  &  &  &  &  &  &  &  &  &  &  &  &  &  &  &  &  &  &  &  &  &  &  & \\end{pmatrix}\\ \\mathrm{degree\\_Celsius}$"
      ],
      "text/plain": [
       "array([   3.8       ,    3.54957407,    1.78051571,   -3.36217084,\n",
       "         -3.42338997,   -7.30981817,  -10.53096324,  -13.97448008,\n",
       "        -15.05322983,  -18.01860591,  -18.29072451,  -27.44542734,\n",
       "        -34.42882342,  -40.52656964,  -48.33961889,  -48.49574576,\n",
       "        -60.32333508,  -65.80751842,  -66.00360868,  -76.48935935,\n",
       "        -81.35297045,  -88.6279634 ,  -98.19316871, -103.18670256,\n",
       "       -108.2267946 , -112.5554556 , -120.4948654 , -121.77866643,\n",
       "       -123.84643351]) <Unit('degree_Celsius')>"
      ]
     },
     "execution_count": 86,
     "metadata": {},
     "output_type": "execute_result"
    }
   ],
   "source": [
    "mpcalc.parcel_profile(P * units(\"hPa\"), (T[0] * units(\"degC\")), (Td[0] * units(\"degC\"))).to(\"degC\")"
   ]
  },
  {
   "cell_type": "code",
   "execution_count": 6,
   "id": "198d77a8-241f-4fcb-ba56-8449ae8a71a1",
   "metadata": {},
   "outputs": [],
   "source": [
    "q = None"
   ]
  },
  {
   "cell_type": "code",
   "execution_count": 7,
   "id": "a011f0d2-3df9-4f5a-b18f-ab56faf39738",
   "metadata": {},
   "outputs": [
    {
     "name": "stdout",
     "output_type": "stream",
     "text": [
      "q is bad\n"
     ]
    }
   ],
   "source": [
    "if q != None:\n",
    "    print(\"q is good\")\n",
    "else:\n",
    "    print(\"q is bad\")"
   ]
  },
  {
   "cell_type": "code",
   "execution_count": 14,
   "id": "03228af2-6f1b-46da-8f0a-99f8d8b51552",
   "metadata": {},
   "outputs": [
    {
     "ename": "AttributeError",
     "evalue": "'NoneType' object has no attribute 'items'",
     "output_type": "error",
     "traceback": [
      "\u001b[0;31m---------------------------------------------------------------------------\u001b[0m",
      "\u001b[0;31mAttributeError\u001b[0m                            Traceback (most recent call last)",
      "Cell \u001b[0;32mIn[14], line 2\u001b[0m\n\u001b[1;32m      1\u001b[0m dat \u001b[38;5;241m=\u001b[39m \u001b[38;5;28;01mNone\u001b[39;00m\n\u001b[0;32m----> 2\u001b[0m \u001b[38;5;28;01mfor\u001b[39;00m dataset \u001b[38;5;129;01min\u001b[39;00m \u001b[43mdat\u001b[49m\u001b[38;5;241;43m.\u001b[39;49m\u001b[43mitems\u001b[49m():\n\u001b[1;32m      3\u001b[0m     \u001b[38;5;28;01mif\u001b[39;00m \u001b[38;5;124m\"\u001b[39m\u001b[38;5;124mll\u001b[39m\u001b[38;5;124m\"\u001b[39m \u001b[38;5;129;01min\u001b[39;00m dataset[\u001b[38;5;241m1\u001b[39m]:\n\u001b[1;32m      4\u001b[0m         \u001b[38;5;28mprint\u001b[39m(\u001b[38;5;124m\"\u001b[39m\u001b[38;5;124mno\u001b[39m\u001b[38;5;124m\"\u001b[39m)\n",
      "\u001b[0;31mAttributeError\u001b[0m: 'NoneType' object has no attribute 'items'"
     ]
    }
   ],
   "source": [
    "dat = None\n",
    "for dataset in dat.items():\n",
    "    if \"ll\" in dataset[1]:\n",
    "        print(\"no\")"
   ]
  },
  {
   "cell_type": "code",
   "execution_count": null,
   "id": "bac3e893-3a1b-4db3-8d1e-badf2456fae2",
   "metadata": {},
   "outputs": [],
   "source": []
  }
 ],
 "metadata": {
  "kernelspec": {
   "display_name": "Python 3 (ipykernel)",
   "language": "python",
   "name": "python3"
  },
  "language_info": {
   "codemirror_mode": {
    "name": "ipython",
    "version": 3
   },
   "file_extension": ".py",
   "mimetype": "text/x-python",
   "name": "python",
   "nbconvert_exporter": "python",
   "pygments_lexer": "ipython3",
   "version": "3.11.4"
  }
 },
 "nbformat": 4,
 "nbformat_minor": 5
}
